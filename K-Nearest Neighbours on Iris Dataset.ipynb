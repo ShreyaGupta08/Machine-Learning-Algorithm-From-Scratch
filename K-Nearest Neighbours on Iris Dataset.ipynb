{
 "cells": [
  {
   "cell_type": "markdown",
   "metadata": {},
   "source": [
    "## This code implements K-Nearest Neighbours from scratch on Iris Dataset"
   ]
  },
  {
   "cell_type": "code",
   "execution_count": 1,
   "metadata": {
    "collapsed": true
   },
   "outputs": [],
   "source": [
    "# This is a code to implement K-Nearst Neighbours from scratcch on Iris Dataset\n",
    "\n",
    "import numpy as np\n",
    "import pandas as pd\n",
    "import matplotlib.pyplot as plt\n",
    "from sklearn.datasets import load_iris\n",
    "from sklearn.model_selection import train_test_split"
   ]
  },
  {
   "cell_type": "code",
   "execution_count": 2,
   "metadata": {},
   "outputs": [
    {
     "name": "stdout",
     "output_type": "stream",
     "text": [
      "dict_keys(['data', 'target', 'target_names', 'DESCR', 'feature_names'])\n",
      "['setosa' 'versicolor' 'virginica']\n",
      "['sepal length (cm)', 'sepal width (cm)', 'petal length (cm)', 'petal width (cm)']\n",
      "(150, 4) (150, 1)\n"
     ]
    }
   ],
   "source": [
    "dataset = load_iris()\n",
    "\n",
    "print(dataset.keys())\n",
    "print(dataset.target_names)\n",
    "print(dataset.feature_names)\n",
    "\n",
    "x = dataset.data\n",
    "y = dataset.target\n",
    "\n",
    "y = y.reshape((y.shape[0], 1))\n",
    "\n",
    "df = pd.DataFrame(x)\n",
    "df.columns = dataset.feature_names\n",
    "df.head()\n",
    "df.describe()\n",
    "\n",
    "print(x.shape, y.shape)"
   ]
  },
  {
   "cell_type": "code",
   "execution_count": 3,
   "metadata": {},
   "outputs": [
    {
     "data": {
      "text/html": [
       "<div>\n",
       "<style>\n",
       "    .dataframe thead tr:only-child th {\n",
       "        text-align: right;\n",
       "    }\n",
       "\n",
       "    .dataframe thead th {\n",
       "        text-align: left;\n",
       "    }\n",
       "\n",
       "    .dataframe tbody tr th {\n",
       "        vertical-align: top;\n",
       "    }\n",
       "</style>\n",
       "<table border=\"1\" class=\"dataframe\">\n",
       "  <thead>\n",
       "    <tr style=\"text-align: right;\">\n",
       "      <th></th>\n",
       "      <th>sepal length (cm)</th>\n",
       "      <th>sepal width (cm)</th>\n",
       "      <th>petal length (cm)</th>\n",
       "      <th>petal width (cm)</th>\n",
       "      <th>Flower Type</th>\n",
       "    </tr>\n",
       "  </thead>\n",
       "  <tbody>\n",
       "    <tr>\n",
       "      <th>sepal length (cm)</th>\n",
       "      <td>1.000000</td>\n",
       "      <td>-0.109369</td>\n",
       "      <td>0.871754</td>\n",
       "      <td>0.817954</td>\n",
       "      <td>0.782561</td>\n",
       "    </tr>\n",
       "    <tr>\n",
       "      <th>sepal width (cm)</th>\n",
       "      <td>-0.109369</td>\n",
       "      <td>1.000000</td>\n",
       "      <td>-0.420516</td>\n",
       "      <td>-0.356544</td>\n",
       "      <td>-0.419446</td>\n",
       "    </tr>\n",
       "    <tr>\n",
       "      <th>petal length (cm)</th>\n",
       "      <td>0.871754</td>\n",
       "      <td>-0.420516</td>\n",
       "      <td>1.000000</td>\n",
       "      <td>0.962757</td>\n",
       "      <td>0.949043</td>\n",
       "    </tr>\n",
       "    <tr>\n",
       "      <th>petal width (cm)</th>\n",
       "      <td>0.817954</td>\n",
       "      <td>-0.356544</td>\n",
       "      <td>0.962757</td>\n",
       "      <td>1.000000</td>\n",
       "      <td>0.956464</td>\n",
       "    </tr>\n",
       "    <tr>\n",
       "      <th>Flower Type</th>\n",
       "      <td>0.782561</td>\n",
       "      <td>-0.419446</td>\n",
       "      <td>0.949043</td>\n",
       "      <td>0.956464</td>\n",
       "      <td>1.000000</td>\n",
       "    </tr>\n",
       "  </tbody>\n",
       "</table>\n",
       "</div>"
      ],
      "text/plain": [
       "                   sepal length (cm)  sepal width (cm)  petal length (cm)  \\\n",
       "sepal length (cm)           1.000000         -0.109369           0.871754   \n",
       "sepal width (cm)           -0.109369          1.000000          -0.420516   \n",
       "petal length (cm)           0.871754         -0.420516           1.000000   \n",
       "petal width (cm)            0.817954         -0.356544           0.962757   \n",
       "Flower Type                 0.782561         -0.419446           0.949043   \n",
       "\n",
       "                   petal width (cm)  Flower Type  \n",
       "sepal length (cm)          0.817954     0.782561  \n",
       "sepal width (cm)          -0.356544    -0.419446  \n",
       "petal length (cm)          0.962757     0.949043  \n",
       "petal width (cm)           1.000000     0.956464  \n",
       "Flower Type                0.956464     1.000000  "
      ]
     },
     "execution_count": 3,
     "metadata": {},
     "output_type": "execute_result"
    }
   ],
   "source": [
    "data = df.copy()\n",
    "data['Flower Type'] = y\n",
    "\n",
    "data.corr()"
   ]
  },
  {
   "cell_type": "code",
   "execution_count": 4,
   "metadata": {},
   "outputs": [
    {
     "name": "stdout",
     "output_type": "stream",
     "text": [
      "Index(['sepal length (cm)', 'sepal width (cm)', 'petal length (cm)',\n",
      "       'petal width (cm)'],\n",
      "      dtype='object')\n",
      "(150, 1)\n"
     ]
    },
    {
     "data": {
      "image/png": "[encoded data removed]",
      "text/plain": [
       "<matplotlib.figure.Figure at 0x7fbbd4d53320>"
      ]
     },
     "metadata": {},
     "output_type": "display_data"
    }
   ],
   "source": [
    "print(df.columns)\n",
    "\n",
    "a1 = df[['petal width (cm)']]\n",
    "print(a1.shape)\n",
    "\n",
    "\n",
    "\n",
    "plt.scatter(a1, y, c = y)\n",
    "plt.xlabel('petal width (cm)')\n",
    "plt.ylabel('category')\n",
    "plt.show()\n"
   ]
  },
  {
   "cell_type": "code",
   "execution_count": 5,
   "metadata": {},
   "outputs": [
    {
     "data": {
      "image/png": "[encoded data removed]",
      "text/plain": [
       "<matplotlib.figure.Figure at 0x7fbbd1478710>"
      ]
     },
     "metadata": {},
     "output_type": "display_data"
    },
    {
     "name": "stdout",
     "output_type": "stream",
     "text": [
      "(150, 1)\n",
      "(150, 1)\n"
     ]
    }
   ],
   "source": [
    "from sklearn.decomposition import PCA\n",
    "\n",
    "pca = PCA(n_components= 1)\n",
    "x_new = PCA.fit_transform(pca, x)\n",
    "\n",
    "plt.scatter(x_new, y, c = y)\n",
    "plt.show()\n",
    "print(x_new.shape)\n",
    "print(y.shape)"
   ]
  },
  {
   "cell_type": "code",
   "execution_count": 6,
   "metadata": {},
   "outputs": [
    {
     "data": {
      "image/png": "[encoded data removed]",
      "text/plain": [
       "<matplotlib.figure.Figure at 0x7fbbd1478ac8>"
      ]
     },
     "metadata": {},
     "output_type": "display_data"
    }
   ],
   "source": [
    "x1 = df.iloc[:, 2:]\n",
    "x1.shape\n",
    "\n",
    "plt.scatter(x1.iloc[:, 0], x1.iloc[:, 1], c = y[:, 0])\n",
    "plt.show()"
   ]
  },
  {
   "cell_type": "code",
   "execution_count": 7,
   "metadata": {},
   "outputs": [
    {
     "name": "stdout",
     "output_type": "stream",
     "text": [
      "<class 'numpy.ndarray'>\n",
      "[[1]\n",
      " [2]\n",
      " [2]\n",
      " [1]\n",
      " [2]]\n"
     ]
    }
   ],
   "source": [
    "x_train, x_test, y_train, y_test = train_test_split(x, y, test_size = 0.3, random_state = 42)\n",
    "print(type(x_train))\n",
    "print(y_train[:5])"
   ]
  },
  {
   "cell_type": "code",
   "execution_count": 8,
   "metadata": {
    "collapsed": true
   },
   "outputs": [],
   "source": [
    "#finds distance between two points\n",
    "def findDist(x1, x2):\n",
    "    \n",
    "    #distance, d = sq root( (x1 - x2)^2 + (y1 - y2)^2 + (z1 - z2)^2... ) \n",
    "    \n",
    "    l = len(x1)\n",
    "    \n",
    "    dist = 0\n",
    "    for i in range(l):\n",
    "        diff = x1[i] - x2[i]    \n",
    "        dist += diff ** 2\n",
    "    return dist ** (0.5)"
   ]
  },
  {
   "cell_type": "code",
   "execution_count": 9,
   "metadata": {
    "collapsed": true
   },
   "outputs": [],
   "source": [
    "def mostFreq(nearestK):    \n",
    "    unique_elements, counts_elements = np.unique(nearestK, return_counts=True)\n",
    "    return unique_elements"
   ]
  },
  {
   "cell_type": "code",
   "execution_count": 24,
   "metadata": {},
   "outputs": [],
   "source": [
    "def k_nearest_neighbours(x_train, y_train, x_test, k):    \n",
    "    m = x_train.shape[0] #no. of training samples\n",
    "    n = x_train.shape[1] #number of features\n",
    "    t = x_test.shape[0] #number of samples in test set\n",
    "    \n",
    "    dist = np.zeros((m,2))\n",
    "    res = np.zeros(t) #result vector of k size\n",
    "    \n",
    "    for j in range(t):\n",
    "        test = x_test[j, :]\n",
    "\n",
    "        for i in range(m):\n",
    "            train = x_train[i, :]\n",
    "\n",
    "            #find distnace between the test sample with all training points\n",
    "            dist[i, 0] = findDist(test, train)\n",
    "            dist[i, 1] = y_train[i]\n",
    "\n",
    "        #sort the distances wrt dist\n",
    "        sortedDist = dist[np.argsort(dist[:, 0])]\n",
    "\n",
    "        #store labels of k nearest points\n",
    "        nearestK = sortedDist[:k, 1]\n",
    "\n",
    "        freq = mostFreq(nearestK)\n",
    "        res[j] = freq[0]\n",
    "    return res"
   ]
  },
  {
   "cell_type": "code",
   "execution_count": 25,
   "metadata": {
    "collapsed": true
   },
   "outputs": [],
   "source": [
    "def accuracy(x,y):\n",
    "    l = len(x)\n",
    "    res = 0\n",
    "    for i in range(l):\n",
    "        if x[i] == y[i]:\n",
    "            res += 1\n",
    "    return res/l"
   ]
  },
  {
   "cell_type": "code",
   "execution_count": 36,
   "metadata": {},
   "outputs": [],
   "source": [
    "limit = 30\n",
    "acc = np.zeros(limit)\n",
    "for k in range(1,limit):\n",
    "    y_pred = k_nearest_neighbours(x_train, y_train, x_test, k)\n",
    "    acc[k] = accuracy(y_test, y_pred)"
   ]
  },
  {
   "cell_type": "code",
   "execution_count": 38,
   "metadata": {},
   "outputs": [
    {
     "data": {
      "image/png": "[encoded data removed]",
      "text/plain": [
       "<matplotlib.figure.Figure at 0x7fbbc6b09e80>"
      ]
     },
     "metadata": {},
     "output_type": "display_data"
    }
   ],
   "source": [
    "xaxis = range(limit)\n",
    "plt.plot(xaxis, acc, 'b-')\n",
    "plt.xlabel('value of K')\n",
    "plt.ylabel('cross-validation accuracy')\n",
    "plt.show()"
   ]
  },
  {
   "cell_type": "code",
   "execution_count": 40,
   "metadata": {},
   "outputs": [
    {
     "data": {
      "text/plain": [
       "array([0.        , 1.        , 1.        , 0.97777778, 0.93333333,\n",
       "       0.91111111, 0.91111111, 0.88888889, 0.88888889, 0.88888889,\n",
       "       0.88888889, 0.86666667, 0.86666667, 0.86666667, 0.86666667,\n",
       "       0.86666667, 0.86666667, 0.86666667, 0.84444444, 0.82222222,\n",
       "       0.82222222, 0.77777778, 0.75555556, 0.75555556, 0.73333333,\n",
       "       0.73333333, 0.71111111, 0.71111111, 0.71111111, 0.71111111])"
      ]
     },
     "execution_count": 40,
     "metadata": {},
     "output_type": "execute_result"
    }
   ],
   "source": [
    "acc"
   ]
  },
  {
   "cell_type": "code",
   "execution_count": 41,
   "metadata": {},
   "outputs": [
    {
     "data": {
      "text/plain": [
       "1.0"
      ]
     },
     "execution_count": 41,
     "metadata": {},
     "output_type": "execute_result"
    }
   ],
   "source": [
    "y_pred = k_nearest_neighbours(x_train, y_train, x_test, 2)\n",
    "accuracy(y_pred, y_test)"
   ]
  }
 ],
 "metadata": {
  "kernelspec": {
   "display_name": "Python 3",
   "language": "python",
   "name": "python3"
  },
  "language_info": {
   "codemirror_mode": {
    "name": "ipython",
    "version": 3
   },
   "file_extension": ".py",
   "mimetype": "text/x-python",
   "name": "python",
   "nbconvert_exporter": "python",
   "pygments_lexer": "ipython3",
   "version": "3.6.3"
  }
 },
 "nbformat": 4,
 "nbformat_minor": 2
}
